{
 "cells": [
  {
   "cell_type": "markdown",
   "metadata": {},
   "source": [
    "# Seznam - použití deepcopy"
   ]
  },
  {
   "cell_type": "markdown",
   "metadata": {},
   "source": [
    "Vytvoříme si seznam `a`.\n",
    "\n",
    "Seznam `b` bude kopií seznamu `a`, seznam `c` je jiný název pro seznam `a`."
   ]
  },
  {
   "cell_type": "code",
   "execution_count": 1,
   "metadata": {
    "collapsed": true
   },
   "outputs": [],
   "source": [
    "a = [1, 2, {'klíč': 'hodnota'}]\n",
    "b = a[:]\n",
    "c = a"
   ]
  },
  {
   "cell_type": "markdown",
   "metadata": {},
   "source": [
    "![schema](obr-deepcopy/1.svg)"
   ]
  },
  {
   "cell_type": "markdown",
   "metadata": {},
   "source": [
    "Pokud pak přidám prvek do seznamu `a`, jeho kopie (`b`) se nezmění.\n"
   ]
  },
  {
   "cell_type": "code",
   "execution_count": 2,
   "metadata": {
    "collapsed": false
   },
   "outputs": [
    {
     "name": "stdout",
     "output_type": "stream",
     "text": [
      "[1, 2, {'klíč': 'hodnota'}, 'žirafa']\n",
      "[1, 2, {'klíč': 'hodnota'}]\n",
      "[1, 2, {'klíč': 'hodnota'}, 'žirafa']\n"
     ]
    }
   ],
   "source": [
    "a.append('žirafa')\n",
    "\n",
    "print(a)\n",
    "print(b)\n",
    "print(c)"
   ]
  },
  {
   "cell_type": "markdown",
   "metadata": {},
   "source": [
    "![schema2](obr-deepcopy/2.svg)"
   ]
  },
  {
   "cell_type": "markdown",
   "metadata": {},
   "source": [
    "Jiný případ ale nastává při změně vnořeného slovníku.\n",
    "\n",
    "Na začátku jsme totiž vytvoříli jen \"mělkou\" kopii, což znamená kopii seznamu a nikoli kopii vnořených struktur (slovník v seznamu `a` je slovník v seznamu `b`)."
   ]
  },
  {
   "cell_type": "code",
   "execution_count": 3,
   "metadata": {
    "collapsed": false
   },
   "outputs": [
    {
     "name": "stdout",
     "output_type": "stream",
     "text": [
      "[1, 2, {'přidej': 'slovo', 'klíč': 'hodnota'}, 'žirafa']\n",
      "[1, 2, {'přidej': 'slovo', 'klíč': 'hodnota'}]\n",
      "[1, 2, {'přidej': 'slovo', 'klíč': 'hodnota'}, 'žirafa']\n"
     ]
    }
   ],
   "source": [
    "a[2]['přidej'] = 'slovo'\n",
    "\n",
    "print(a)\n",
    "print(b)\n",
    "print(c)"
   ]
  },
  {
   "cell_type": "markdown",
   "metadata": {},
   "source": [
    "![schema3](obr-deepcopy/3.svg)"
   ]
  },
  {
   "cell_type": "markdown",
   "metadata": {},
   "source": [
    "Pokud tedy chceme vytvořit neměnnou kopii, je třeba použít `deepcopy`."
   ]
  },
  {
   "cell_type": "code",
   "execution_count": 4,
   "metadata": {
    "collapsed": false
   },
   "outputs": [
    {
     "name": "stdout",
     "output_type": "stream",
     "text": [
      "[1, 2, {'přidej': 'slovo', 'klíč': 'hodnota'}, 'žirafa']\n"
     ]
    }
   ],
   "source": [
    "from copy import deepcopy\n",
    "\n",
    "d = deepcopy(a)\n",
    "\n",
    "print(d)"
   ]
  },
  {
   "cell_type": "markdown",
   "metadata": {},
   "source": [
    "![schema4](obr-deepcopy/4.svg)"
   ]
  },
  {
   "cell_type": "code",
   "execution_count": 5,
   "metadata": {
    "collapsed": false
   },
   "outputs": [
    {
     "name": "stdout",
     "output_type": "stream",
     "text": [
      "[1, 2, {'klíč': 'hodnota'}, 'žirafa']\n",
      "[1, 2, {'klíč': 'hodnota'}]\n",
      "[1, 2, {'klíč': 'hodnota'}, 'žirafa']\n",
      "[1, 2, {'přidej': 'slovo', 'klíč': 'hodnota'}, 'žirafa']\n"
     ]
    }
   ],
   "source": [
    "del a[2]['přidej']\n",
    "\n",
    "\n",
    "print(a)\n",
    "print(b)\n",
    "print(c)\n",
    "print(d)"
   ]
  },
  {
   "cell_type": "markdown",
   "metadata": {},
   "source": [
    "![schema5](obr-deepcopy/5.svg)"
   ]
  },
  {
   "cell_type": "code",
   "execution_count": 6,
   "metadata": {
    "collapsed": false
   },
   "outputs": [
    {
     "name": "stdout",
     "output_type": "stream",
     "text": [
      "[1, {'klíč': 'hodnota'}, 'žirafa']\n",
      "[1, 2, {'klíč': 'hodnota'}]\n",
      "[1, {'klíč': 'hodnota'}, 'žirafa']\n",
      "[1, 2, {'přidej': 'slovo', 'klíč': 'hodnota'}, 'žirafa']\n"
     ]
    }
   ],
   "source": [
    "del a[1]\n",
    "\n",
    "print(a)\n",
    "print(b)\n",
    "print(c)\n",
    "print(d)"
   ]
  },
  {
   "cell_type": "markdown",
   "metadata": {},
   "source": [
    "![schema6](obr-deepcopy/8.svg)"
   ]
  },
  {
   "cell_type": "code",
   "execution_count": null,
   "metadata": {
    "collapsed": true
   },
   "outputs": [],
   "source": []
  }
 ],
 "metadata": {
  "kernelspec": {
   "display_name": "Python 3",
   "language": "python",
   "name": "python3"
  },
  "language_info": {
   "codemirror_mode": {
    "name": "ipython",
    "version": 3
   },
   "file_extension": ".py",
   "mimetype": "text/x-python",
   "name": "python",
   "nbconvert_exporter": "python",
   "pygments_lexer": "ipython3",
   "version": "3.5.1"
  }
 },
 "nbformat": 4,
 "nbformat_minor": 1
}
