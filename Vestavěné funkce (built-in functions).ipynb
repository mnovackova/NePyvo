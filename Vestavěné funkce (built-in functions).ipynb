{
 "cells": [
  {
   "cell_type": "markdown",
   "metadata": {
    "deletable": true,
    "editable": true
   },
   "source": [
    "# Vestavěné funkce"
   ]
  },
  {
   "cell_type": "markdown",
   "metadata": {
    "deletable": true,
    "editable": true
   },
   "source": [
    "## abs(x)"
   ]
  },
  {
   "cell_type": "markdown",
   "metadata": {
    "deletable": true,
    "editable": true
   },
   "source": [
    "Funkce vrací absolutní hodnotu čísla. Argument musí mít číselnou hodnotu.\n",
    "\n",
    "\n",
    "Vhodné např. když porovnávávám dvě data a nechci řešit záporné hodnoty."
   ]
  },
  {
   "cell_type": "code",
   "execution_count": 10,
   "metadata": {
    "collapsed": false,
    "deletable": true,
    "editable": true
   },
   "outputs": [
    {
     "data": {
      "text/plain": [
       "10"
      ]
     },
     "execution_count": 10,
     "metadata": {},
     "output_type": "execute_result"
    }
   ],
   "source": [
    "x = -10\n",
    "abs(x)"
   ]
  },
  {
   "cell_type": "code",
   "execution_count": 11,
   "metadata": {
    "collapsed": false,
    "deletable": true,
    "editable": true
   },
   "outputs": [
    {
     "name": "stdout",
     "output_type": "stream",
     "text": [
      "7 7\n"
     ]
    }
   ],
   "source": [
    "a = 10\n",
    "b = 3\n",
    "\n",
    "print(a-b, abs(b-a))"
   ]
  },
  {
   "cell_type": "code",
   "execution_count": 12,
   "metadata": {
    "collapsed": false,
    "deletable": true,
    "editable": true
   },
   "outputs": [
    {
     "name": "stdout",
     "output_type": "stream",
     "text": [
      "1 day, 0:00:00\n",
      "1 day, 0:00:00\n"
     ]
    }
   ],
   "source": [
    "from datetime import date\n",
    "\n",
    "a = date(year=2017, month=12, day=1)\n",
    "b = date(year=2017, month=12, day=2)\n",
    "\n",
    "print(abs(a-b))\n",
    "print(b-a)"
   ]
  },
  {
   "cell_type": "markdown",
   "metadata": {
    "deletable": true,
    "editable": true
   },
   "source": [
    "!!! Funci `abs()` si mohu definovat i v rámci své třídy, ale pak získá jiné vlastnosti."
   ]
  },
  {
   "cell_type": "code",
   "execution_count": 13,
   "metadata": {
    "collapsed": false,
    "deletable": true,
    "editable": true
   },
   "outputs": [
    {
     "name": "stdout",
     "output_type": "stream",
     "text": [
      "42\n"
     ]
    }
   ],
   "source": [
    "class Foo:\n",
    "    def __init__(self, x):\n",
    "        self.x = x\n",
    "    def __abs__(self):\n",
    "        return abs(self.x)\n",
    "    \n",
    "foo = Foo(-42)\n",
    "print(abs(foo))"
   ]
  },
  {
   "cell_type": "markdown",
   "metadata": {
    "deletable": true,
    "editable": true
   },
   "source": [
    "## all(iterable)"
   ]
  },
  {
   "cell_type": "markdown",
   "metadata": {
    "deletable": true,
    "editable": true
   },
   "source": [
    "Funkce vrací `True` pokud jsou všechny prvky např. seznamu pravdivé nebo je seznam prázdný.\n",
    "\n",
    "Lze použít na seznam, slovník (prochází přes klíče), ntici, množinu, generátor (např. `range(5)`), ..."
   ]
  },
  {
   "cell_type": "code",
   "execution_count": 14,
   "metadata": {
    "collapsed": false,
    "deletable": true,
    "editable": true
   },
   "outputs": [
    {
     "name": "stdout",
     "output_type": "stream",
     "text": [
      "[1, 2, 3] -> True\n",
      "[] -> True\n",
      "['a', 1, True] -> True\n",
      "[0] -> False\n",
      "[False] -> False\n",
      "{0: 'b', 1: 'a'} -> False\n"
     ]
    }
   ],
   "source": [
    "a = [1, 2, 3]\n",
    "b = []\n",
    "c = ['a', 1, True]\n",
    "d = [0]\n",
    "e = [False]\n",
    "f = {1: 'a', 0: 'b'}\n",
    "\n",
    "print(a, \"->\", all(a))\n",
    "print(b, \"->\", all(b))\n",
    "print(c, \"->\", all(c))\n",
    "print(d, \"->\", all(d))\n",
    "print(e, \"->\", all(e))\n",
    "\n",
    "print(f, \"->\", all(f))"
   ]
  },
  {
   "cell_type": "markdown",
   "metadata": {},
   "source": [
    "Hodí se třeba při testování, když potřebujete napsat dlouhou podmínku."
   ]
  },
  {
   "cell_type": "code",
   "execution_count": 15,
   "metadata": {
    "collapsed": false
   },
   "outputs": [
    {
     "name": "stdout",
     "output_type": "stream",
     "text": [
      "Vše je pravdivé.\n",
      "Tady je vše také pravdivé.\n"
     ]
    }
   ],
   "source": [
    "a = [1,2]\n",
    "b = 'ahoj'\n",
    "\n",
    "if 1+1 and a and b:\n",
    "    print('Vše je pravdivé.')\n",
    "if all((1+1, a, b)):\n",
    "    print('Tady je vše také pravdivé.')    "
   ]
  },
  {
   "cell_type": "markdown",
   "metadata": {
    "deletable": true,
    "editable": true
   },
   "source": [
    "## any(iterable)"
   ]
  },
  {
   "cell_type": "markdown",
   "metadata": {
    "deletable": true,
    "editable": true
   },
   "source": [
    "Funkce vrací `True` pokud je alespoň jeden prvek např. seznamu pravdivý. Pokud je seznam prázdný, vrací `False`.\n",
    "\n",
    "Lze použít na seznam, slovník (prochází přes klíče), ntici, množinu, generátor (např. `range(5)`), ..."
   ]
  },
  {
   "cell_type": "code",
   "execution_count": 16,
   "metadata": {
    "collapsed": false,
    "deletable": true,
    "editable": true
   },
   "outputs": [
    {
     "name": "stdout",
     "output_type": "stream",
     "text": [
      "[1, 2, 3] -> True\n",
      "[] -> False\n",
      "['a', 1, True] -> True\n",
      "[0] -> False\n",
      "[False] -> False\n",
      "{0: 'b', 1: 'a'} -> True\n"
     ]
    }
   ],
   "source": [
    "a = [1, 2, 3]\n",
    "b = []\n",
    "c = ['a', 1, True]\n",
    "d = [0]\n",
    "e = [False]\n",
    "f = {1: 'a', 0: 'b'}\n",
    "\n",
    "print(a, \"->\", any(a))\n",
    "print(b, \"->\", any(b))\n",
    "print(c, \"->\", any(c))\n",
    "print(d, \"->\", any(d))\n",
    "print(e, \"->\", any(e))\n",
    "print(f, \"->\", any(f))"
   ]
  },
  {
   "cell_type": "markdown",
   "metadata": {
    "deletable": true,
    "editable": true
   },
   "source": [
    "## bin(x)"
   ]
  },
  {
   "cell_type": "markdown",
   "metadata": {
    "deletable": true,
    "editable": true
   },
   "source": [
    "Funkce převádí číslo na binární řetězec."
   ]
  },
  {
   "cell_type": "code",
   "execution_count": 17,
   "metadata": {
    "collapsed": false,
    "deletable": true,
    "editable": true
   },
   "outputs": [
    {
     "data": {
      "text/plain": [
       "'0b1010'"
      ]
     },
     "execution_count": 17,
     "metadata": {},
     "output_type": "execute_result"
    }
   ],
   "source": [
    "x = 10\n",
    "bin(x)"
   ]
  },
  {
   "cell_type": "markdown",
   "metadata": {},
   "source": [
    "Pokud chcete hezčí zápis bez `0b`, můžete použít `str.format()`."
   ]
  },
  {
   "cell_type": "code",
   "execution_count": 18,
   "metadata": {
    "collapsed": false
   },
   "outputs": [
    {
     "data": {
      "text/plain": [
       "'1010'"
      ]
     },
     "execution_count": 18,
     "metadata": {},
     "output_type": "execute_result"
    }
   ],
   "source": [
    "'{:b}'.format(x)"
   ]
  },
  {
   "cell_type": "markdown",
   "metadata": {
    "deletable": true,
    "editable": true
   },
   "source": [
    "## bool([x])"
   ]
  },
  {
   "cell_type": "markdown",
   "metadata": {
    "deletable": true,
    "editable": true
   },
   "source": [
    "Vrací `True` nebo `False`.\n",
    "\n",
    "Pokud je argument pravdivý, funkce vrací `True`, v opačném případě vrací `False`."
   ]
  },
  {
   "cell_type": "code",
   "execution_count": 19,
   "metadata": {
    "collapsed": false,
    "deletable": true,
    "editable": true
   },
   "outputs": [
    {
     "name": "stdout",
     "output_type": "stream",
     "text": [
      "[1, 2, 3] == True\n",
      "[] == False\n",
      "['a', 1, True] == True\n",
      "[0] == True\n",
      "[False] == True\n",
      "{0: 'b', 1: 'a'} == True\n",
      "False\n"
     ]
    }
   ],
   "source": [
    "a = [1, 2, 3]\n",
    "b = []\n",
    "c = ['a', 1, True]\n",
    "d = [0]\n",
    "e = [False]\n",
    "f = {1: 'a', 0: 'b'}\n",
    "\n",
    "print(a, \"==\", bool(a))\n",
    "print(b, \"==\", bool(b))\n",
    "print(c, \"==\", bool(c))\n",
    "print(d, \"==\", bool(d))\n",
    "print(e, \"==\", bool(e))\n",
    "print(f, \"==\", bool(f))\n",
    "print(bool())"
   ]
  },
  {
   "cell_type": "markdown",
   "metadata": {
    "deletable": true,
    "editable": true
   },
   "source": [
    "Případy, kdy je výsledek `False`:\n",
    "```\n",
    "    int       0 \n",
    "    float     0.0\n",
    "    str       ''\n",
    "    dict      {}\n",
    "    list      []\n",
    "    tuple     ()\n",
    "    set       set()\n",
    "    bool      False \n",
    "    NoneType  None\n",
    "```\n",
    "    \n"
   ]
  },
  {
   "cell_type": "markdown",
   "metadata": {
    "deletable": true,
    "editable": true
   },
   "source": [
    "## bytearray([source[, encoding[, errors]]])"
   ]
  },
  {
   "cell_type": "markdown",
   "metadata": {
    "deletable": true,
    "editable": true
   },
   "source": [
    "Vhodné např. na binární (ne textová) data."
   ]
  },
  {
   "cell_type": "code",
   "execution_count": 20,
   "metadata": {
    "collapsed": false,
    "deletable": true,
    "editable": true
   },
   "outputs": [
    {
     "name": "stdout",
     "output_type": "stream",
     "text": [
      "bytearray(b'abcdef')\n",
      "bytearray(b'ab12ef')\n"
     ]
    }
   ],
   "source": [
    "a = bytearray('abcdef', encoding='ascii')\n",
    "print(a)\n",
    "\n",
    "a[2:4] = b'12'\n",
    "print(a)"
   ]
  },
  {
   "cell_type": "markdown",
   "metadata": {
    "deletable": true,
    "editable": true
   },
   "source": [
    "## bytes([source[, encoding[, errors]]])"
   ]
  },
  {
   "cell_type": "markdown",
   "metadata": {
    "deletable": true,
    "editable": true
   },
   "source": [
    "To samé co `bytearray`, ale neměnné.\n",
    "\n",
    "Lze zapsat i jako `b'retezec'`.\n"
   ]
  },
  {
   "cell_type": "code",
   "execution_count": 21,
   "metadata": {
    "collapsed": false,
    "deletable": true,
    "editable": true
   },
   "outputs": [
    {
     "name": "stdout",
     "output_type": "stream",
     "text": [
      "b'abc'\n",
      "b'abcd'\n",
      "b'\\xc5\\xbelu\\xc5\\xa5ou\\xc4\\x8dk\\xc3\\xbd k\\xc5\\xaf\\xc5\\x88'\n",
      "b'luouk k'\n",
      "b'?lu?ou?k? k??'\n"
     ]
    }
   ],
   "source": [
    "a = 'abc'\n",
    "print(bytes(a, encoding='ascii'))\n",
    "\n",
    "print(b'abcd')\n",
    "\n",
    "print(bytes('žluťoučký kůň', encoding='utf-8'))\n",
    "\n",
    "print(bytes('žluťoučký kůň', encoding='ascii', errors='ignore'))\n",
    "print(bytes('žluťoučký kůň', encoding='ascii', errors='replace'))"
   ]
  },
  {
   "cell_type": "markdown",
   "metadata": {
    "deletable": true,
    "editable": true
   },
   "source": [
    "Dekódování azbuky a řeckých nápisů (úplně jako Indiana Jones :) ):"
   ]
  },
  {
   "cell_type": "code",
   "execution_count": 22,
   "metadata": {
    "collapsed": false,
    "deletable": true,
    "editable": true
   },
   "outputs": [
    {
     "name": "stdout",
     "output_type": "stream",
     "text": [
      "b'\\\\N{CYRILLIC SMALL LETTER ES}\\\\N{CYRILLIC SMALL LETTER O}\\\\N{CYRILLIC SMALL LETTER BE}\\\\N{CYRILLIC SMALL LETTER A}\\\\N{CYRILLIC SMALL LETTER KA}\\\\N{CYRILLIC SMALL LETTER A}'\n",
      "b'\\\\N{GREEK CAPITAL LETTER DELTA}\\\\N{GREEK SMALL LETTER IOTA}\\\\N{GREEK SMALL LETTER OMICRON WITH TONOS}\\\\N{GREEK SMALL LETTER NU}\\\\N{GREEK SMALL LETTER UPSILON}\\\\N{GREEK SMALL LETTER SIGMA}\\\\N{GREEK SMALL LETTER OMICRON}\\\\N{GREEK SMALL LETTER FINAL SIGMA}'\n"
     ]
    }
   ],
   "source": [
    "print(bytes('собака', encoding='ascii', errors='namereplace'))\n",
    "\n",
    "print(bytes('Διόνυσος', encoding='ascii', errors='namereplace'))"
   ]
  },
  {
   "cell_type": "markdown",
   "metadata": {
    "deletable": true,
    "editable": true
   },
   "source": [
    "## callable(object)"
   ]
  },
  {
   "cell_type": "markdown",
   "metadata": {
    "deletable": true,
    "editable": true
   },
   "source": [
    "Funkce vrací `True`, pokud lze argument zavolat.\n",
    "\n",
    "Lze tak např. ověřit, jestli vstupní data jsou řetezec/ číslo nebo funkce a podle toho ošetřit podmínkou."
   ]
  },
  {
   "cell_type": "code",
   "execution_count": 23,
   "metadata": {
    "collapsed": false,
    "deletable": true,
    "editable": true
   },
   "outputs": [
    {
     "name": "stdout",
     "output_type": "stream",
     "text": [
      "10 -> False\n",
      "<function foo at 0x7f0d6538de18> -> True\n",
      "None -> False\n",
      "<class '__main__.Bar'> -> True\n",
      "<__main__.Bar object at 0x7f0d642a62b0> -> False\n",
      "<class '__main__.Barbar'> -> True\n",
      "<__main__.Barbar object at 0x7f0d642a6240> -> True\n",
      "42 -> False\n"
     ]
    }
   ],
   "source": [
    "a = 10\n",
    "\n",
    "print(a, \"->\", callable(a))\n",
    "\n",
    "\n",
    "def foo():\n",
    "    pass\n",
    "\n",
    "print(foo, \"->\", callable(foo))\n",
    "print(foo(), \"->\", callable(foo()))\n",
    "\n",
    "class Bar:\n",
    "    pass\n",
    "\n",
    "print(Bar, \"->\", callable(Bar))\n",
    "print(Bar(), \"->\", callable(Bar()))\n",
    "\n",
    "class Barbar:\n",
    "    def __call__(self):\n",
    "        return 42\n",
    "\n",
    "print(Barbar, \"->\", callable(Barbar))\n",
    "print(Barbar(), \"->\", callable(Barbar()))\n",
    "print(Barbar()(), \"->\", callable(Barbar()()))"
   ]
  },
  {
   "cell_type": "markdown",
   "metadata": {
    "deletable": true,
    "editable": true
   },
   "source": [
    "## chr(i)"
   ]
  },
  {
   "cell_type": "markdown",
   "metadata": {
    "deletable": true,
    "editable": true
   },
   "source": [
    "Funkce bere číslo a vrací unikódový řetězec.\n",
    "Opak je funkce `ord()`.\n",
    "\n",
    "Např. `chr(97)` vrací řetězec `'a'`, `chr(8364)` vrací řetězec `'€'`.\n",
    "\n",
    "Používá se např. v Ceasarově šifře (rot13)."
   ]
  },
  {
   "cell_type": "code",
   "execution_count": 24,
   "metadata": {
    "collapsed": false,
    "deletable": true,
    "editable": true
   },
   "outputs": [
    {
     "name": "stdout",
     "output_type": "stream",
     "text": [
      "nubw\n",
      "ahoj\n"
     ]
    }
   ],
   "source": [
    "vstup = 'ahoj'\n",
    "\n",
    "def sifra(vstup):\n",
    "    '''Caesarova sifra'''\n",
    "    vysledek = []\n",
    "    for pismeno in vstup.lower():\n",
    "        a = chr(((ord(pismeno) - ord('a') + 13) % 26) + ord('a'))\n",
    "        vysledek.append(a)\n",
    "    return \"\".join(vysledek)\n",
    "\n",
    "print(sifra(vstup))\n",
    "print(sifra(sifra(vstup)))"
   ]
  },
  {
   "cell_type": "markdown",
   "metadata": {
    "deletable": true,
    "editable": true
   },
   "source": [
    "## class complex([real[, imag]])"
   ]
  },
  {
   "cell_type": "markdown",
   "metadata": {
    "deletable": true,
    "editable": true
   },
   "source": [
    "Vrací komplexní číslo.\n",
    "\n",
    "Lze použít i na řetezec - viz příklad:"
   ]
  },
  {
   "cell_type": "code",
   "execution_count": 25,
   "metadata": {
    "collapsed": false,
    "deletable": true,
    "editable": true
   },
   "outputs": [
    {
     "name": "stdout",
     "output_type": "stream",
     "text": [
      "(1+2j)\n",
      "(1+2j)\n"
     ]
    }
   ],
   "source": [
    "realna = '1+2j'\n",
    "\n",
    "print(complex(realna))\n",
    "\n",
    "realna = 1\n",
    "imaginarni = 2\n",
    "\n",
    "print(complex(realna, imaginarni))"
   ]
  },
  {
   "cell_type": "markdown",
   "metadata": {
    "deletable": true,
    "editable": true
   },
   "source": [
    "V praxi s nimi můžete třeba tvořit malá umělecká díla - fraktály :)\n",
    "\n",
    "<img width=400px src='http://chaos.fraktaly.sweb.cz/strs/4/mset.png'><img width=400px src='http://www.sciart-cz.eu/pdf/Puncochar/kingdom/Image60.gif'>\n"
   ]
  },
  {
   "cell_type": "markdown",
   "metadata": {
    "deletable": true,
    "editable": true
   },
   "source": [
    "```\n",
    "    dict() \thelp() \tmin() \tsetattr()\n",
    " \tdir() \thex() \tnext() \tslice()\n",
    " \tdivmod() \tid() \tobject() \tsorted()\n",
    "ascii() \tenumerate() \tinput() \toct() \tstaticmethod()\n",
    " \teval() \tint() \topen() \tstr()\n",
    " \texec() \tisinstance() \tord() \tsum()\n",
    " \tfilter() \tissubclass() \tpow() \tsuper()\n",
    " \tfloat() \titer() \tprint() \ttuple()\n",
    " \tformat() \tlen() \tproperty() \ttype()\n",
    " \tfrozenset() \tlist() \trange() \tvars()\n",
    "classmethod() \tgetattr() \tlocals() \trepr() \tzip()\n",
    "compile() \tglobals() \tmap() \treversed() \t__import__()\n",
    " \thasattr() \tmax() \tround() \t \n",
    "delattr() \thash() \tmemoryview() \tset()\n",
    "```"
   ]
  },
  {
   "cell_type": "code",
   "execution_count": null,
   "metadata": {
    "collapsed": true,
    "deletable": true,
    "editable": true
   },
   "outputs": [],
   "source": []
  }
 ],
 "metadata": {
  "kernelspec": {
   "display_name": "Python 3",
   "language": "python",
   "name": "python3"
  },
  "language_info": {
   "codemirror_mode": {
    "name": "ipython",
    "version": 3
   },
   "file_extension": ".py",
   "mimetype": "text/x-python",
   "name": "python",
   "nbconvert_exporter": "python",
   "pygments_lexer": "ipython3",
   "version": "3.5.1"
  }
 },
 "nbformat": 4,
 "nbformat_minor": 1
}
